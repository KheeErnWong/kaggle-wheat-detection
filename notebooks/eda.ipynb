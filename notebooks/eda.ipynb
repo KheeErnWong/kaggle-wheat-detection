{
 "cells": [
  {
   "cell_type": "markdown",
   "id": "09028df6",
   "metadata": {},
   "source": [
    "# 1. Import libraries"
   ]
  },
  {
   "cell_type": "code",
   "execution_count": 36,
   "id": "889ef0b6",
   "metadata": {},
   "outputs": [],
   "source": [
    "import pandas as pd\n",
    "from pathlib import Path\n",
    "from collections import Counter"
   ]
  },
  {
   "cell_type": "markdown",
   "id": "32ee3e29",
   "metadata": {},
   "source": [
    "# 2. EDA"
   ]
  },
  {
   "cell_type": "code",
   "execution_count": 13,
   "id": "84f82175",
   "metadata": {},
   "outputs": [
    {
     "name": "stdout",
     "output_type": "stream",
     "text": [
      "train.csv shape (147793, 5)\n"
     ]
    },
    {
     "data": {
      "text/html": [
       "<div>\n",
       "<style scoped>\n",
       "    .dataframe tbody tr th:only-of-type {\n",
       "        vertical-align: middle;\n",
       "    }\n",
       "\n",
       "    .dataframe tbody tr th {\n",
       "        vertical-align: top;\n",
       "    }\n",
       "\n",
       "    .dataframe thead th {\n",
       "        text-align: right;\n",
       "    }\n",
       "</style>\n",
       "<table border=\"1\" class=\"dataframe\">\n",
       "  <thead>\n",
       "    <tr style=\"text-align: right;\">\n",
       "      <th></th>\n",
       "      <th>image_id</th>\n",
       "      <th>width</th>\n",
       "      <th>height</th>\n",
       "      <th>bbox</th>\n",
       "      <th>source</th>\n",
       "    </tr>\n",
       "  </thead>\n",
       "  <tbody>\n",
       "    <tr>\n",
       "      <th>0</th>\n",
       "      <td>b6ab77fd7</td>\n",
       "      <td>1024</td>\n",
       "      <td>1024</td>\n",
       "      <td>[834.0, 222.0, 56.0, 36.0]</td>\n",
       "      <td>usask_1</td>\n",
       "    </tr>\n",
       "    <tr>\n",
       "      <th>1</th>\n",
       "      <td>b6ab77fd7</td>\n",
       "      <td>1024</td>\n",
       "      <td>1024</td>\n",
       "      <td>[226.0, 548.0, 130.0, 58.0]</td>\n",
       "      <td>usask_1</td>\n",
       "    </tr>\n",
       "    <tr>\n",
       "      <th>2</th>\n",
       "      <td>b6ab77fd7</td>\n",
       "      <td>1024</td>\n",
       "      <td>1024</td>\n",
       "      <td>[377.0, 504.0, 74.0, 160.0]</td>\n",
       "      <td>usask_1</td>\n",
       "    </tr>\n",
       "    <tr>\n",
       "      <th>3</th>\n",
       "      <td>b6ab77fd7</td>\n",
       "      <td>1024</td>\n",
       "      <td>1024</td>\n",
       "      <td>[834.0, 95.0, 109.0, 107.0]</td>\n",
       "      <td>usask_1</td>\n",
       "    </tr>\n",
       "    <tr>\n",
       "      <th>4</th>\n",
       "      <td>b6ab77fd7</td>\n",
       "      <td>1024</td>\n",
       "      <td>1024</td>\n",
       "      <td>[26.0, 144.0, 124.0, 117.0]</td>\n",
       "      <td>usask_1</td>\n",
       "    </tr>\n",
       "  </tbody>\n",
       "</table>\n",
       "</div>"
      ],
      "text/plain": [
       "    image_id  width  height                         bbox   source\n",
       "0  b6ab77fd7   1024    1024   [834.0, 222.0, 56.0, 36.0]  usask_1\n",
       "1  b6ab77fd7   1024    1024  [226.0, 548.0, 130.0, 58.0]  usask_1\n",
       "2  b6ab77fd7   1024    1024  [377.0, 504.0, 74.0, 160.0]  usask_1\n",
       "3  b6ab77fd7   1024    1024  [834.0, 95.0, 109.0, 107.0]  usask_1\n",
       "4  b6ab77fd7   1024    1024  [26.0, 144.0, 124.0, 117.0]  usask_1"
      ]
     },
     "execution_count": 13,
     "metadata": {},
     "output_type": "execute_result"
    }
   ],
   "source": [
    "# Check out what is in train.csv\n",
    "train_df = pd.read_csv(\"../data/global-wheat-detection/train.csv\")\n",
    "print(f\"train.csv shape {train_df.shape}\")\n",
    "train_df.head()"
   ]
  },
  {
   "cell_type": "code",
   "execution_count": 12,
   "id": "c40a594f",
   "metadata": {},
   "outputs": [
    {
     "data": {
      "text/plain": [
       "image_id\n",
       "35b935b6c    116\n",
       "f1794c924    108\n",
       "f79336a8e    104\n",
       "134d4a01c    101\n",
       "4cf91995d     97\n",
       "            ... \n",
       "86296fc32      1\n",
       "ce4124be0      1\n",
       "4e6c05213      1\n",
       "a5cb30c38      1\n",
       "41457a646      1\n",
       "Name: count, Length: 3373, dtype: int64"
      ]
     },
     "metadata": {},
     "output_type": "display_data"
    },
    {
     "data": {
      "text/plain": [
       "width\n",
       "1024    147793\n",
       "Name: count, dtype: int64"
      ]
     },
     "metadata": {},
     "output_type": "display_data"
    },
    {
     "data": {
      "text/plain": [
       "height\n",
       "1024    147793\n",
       "Name: count, dtype: int64"
      ]
     },
     "metadata": {},
     "output_type": "display_data"
    },
    {
     "data": {
      "text/plain": [
       "bbox\n",
       "[972, 0, 52, 84]              2\n",
       "[0.0, 957.0, 79.0, 66.0]      2\n",
       "[372.0, 856.0, 66.0, 64.0]    2\n",
       "[302.0, 815.0, 64.0, 75.0]    2\n",
       "[0.0, 385.0, 56.0, 46.0]      2\n",
       "                             ..\n",
       "[0, 750, 39, 78]              1\n",
       "[121, 931, 119, 77]           1\n",
       "[279, 965, 91, 59]            1\n",
       "[588, 953, 81, 71]            1\n",
       "[875.0, 740.0, 94.0, 61.0]    1\n",
       "Name: count, Length: 147761, dtype: int64"
      ]
     },
     "metadata": {},
     "output_type": "display_data"
    },
    {
     "data": {
      "text/plain": [
       "source\n",
       "ethz_1       51489\n",
       "arvalis_1    45716\n",
       "rres_1       20236\n",
       "arvalis_3    16665\n",
       "usask_1       5807\n",
       "arvalis_2     4179\n",
       "inrae_1       3701\n",
       "Name: count, dtype: int64"
      ]
     },
     "metadata": {},
     "output_type": "display_data"
    }
   ],
   "source": [
    "# Look at unique values in each column\n",
    "for col in train_df.columns.to_list():\n",
    "    display(train_df[col].value_counts())"
   ]
  },
  {
   "cell_type": "markdown",
   "id": "d959c60f",
   "metadata": {},
   "source": [
    "```Observations```\n",
    "\n",
    "1. 3373 images, all 1024 x 1024 px\n",
    "2. Probably can disregard source\n",
    "3. I will need to draw the bounding boxes into each image id"
   ]
  },
  {
   "cell_type": "code",
   "execution_count": 39,
   "id": "daffc08b",
   "metadata": {},
   "outputs": [
    {
     "name": "stdout",
     "output_type": "stream",
     "text": [
      "Images in train folder: 3422\n",
      "Image suffixes: Counter({'.jpg': 3422})\n",
      "\n",
      "Images in test folder: 10\n",
      "Image suffixes: Counter({'.jpg': 10})\n"
     ]
    }
   ],
   "source": [
    "# Check number of images in train and test folder\n",
    "train_dir = \"../data/global-wheat-detection/train\"\n",
    "test_dir = \"../data/global-wheat-detection/test\"\n",
    "\n",
    "train_img = [image for image in Path(train_dir).iterdir()]\n",
    "train_img_ext_count = Counter([image.suffix for image in train_img])\n",
    "print(f\"Images in train folder: {len(train_img)}\")\n",
    "print(f\"Image suffixes: {train_img_ext_count}\")\n",
    "\n",
    "print()\n",
    "\n",
    "test_img = [image for image in Path(test_dir).iterdir()]\n",
    "test_img_ext_count = Counter([image.suffix for image in test_img])\n",
    "print(f\"Images in test folder: {len(test_img)}\")\n",
    "print(f\"Image suffixes: {test_img_ext_count}\")"
   ]
  },
  {
   "cell_type": "markdown",
   "id": "ef52ca3a",
   "metadata": {},
   "source": [
    "```Observations```\n",
    "\n",
    "1. There are 3422 images in train folder, but only 3733 unique IDs in train.csv.\n",
    "    - Explore further to see which unique IDs do not have images in train folder\n",
    "2. All .jpg extension in train folder. Great"
   ]
  },
  {
   "cell_type": "code",
   "execution_count": null,
   "id": "d804bb79",
   "metadata": {},
   "outputs": [],
   "source": [
    "# Investigate missing IDs in train.csv\n"
   ]
  }
 ],
 "metadata": {
  "kernelspec": {
   "display_name": "kaggle-wheat-detection",
   "language": "python",
   "name": "python3"
  },
  "language_info": {
   "codemirror_mode": {
    "name": "ipython",
    "version": 3
   },
   "file_extension": ".py",
   "mimetype": "text/x-python",
   "name": "python",
   "nbconvert_exporter": "python",
   "pygments_lexer": "ipython3",
   "version": "3.13.5"
  }
 },
 "nbformat": 4,
 "nbformat_minor": 5
}
