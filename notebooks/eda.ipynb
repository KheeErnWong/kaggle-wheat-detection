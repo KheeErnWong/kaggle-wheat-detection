{
 "cells": [
  {
   "cell_type": "markdown",
   "id": "09028df6",
   "metadata": {},
   "source": [
    "# 1. Import libraries"
   ]
  },
  {
   "cell_type": "code",
   "execution_count": 2,
   "id": "889ef0b6",
   "metadata": {},
   "outputs": [],
   "source": [
    "import pandas as pd\n",
    "from pathlib import Path\n",
    "from collections import Counter"
   ]
  },
  {
   "cell_type": "markdown",
   "id": "32ee3e29",
   "metadata": {},
   "source": [
    "# 2. EDA"
   ]
  },
  {
   "cell_type": "code",
   "execution_count": 3,
   "id": "84f82175",
   "metadata": {},
   "outputs": [
    {
     "name": "stdout",
     "output_type": "stream",
     "text": [
      "train.csv shape (147793, 5)\n"
     ]
    },
    {
     "data": {
      "text/html": [
       "<div>\n",
       "<style scoped>\n",
       "    .dataframe tbody tr th:only-of-type {\n",
       "        vertical-align: middle;\n",
       "    }\n",
       "\n",
       "    .dataframe tbody tr th {\n",
       "        vertical-align: top;\n",
       "    }\n",
       "\n",
       "    .dataframe thead th {\n",
       "        text-align: right;\n",
       "    }\n",
       "</style>\n",
       "<table border=\"1\" class=\"dataframe\">\n",
       "  <thead>\n",
       "    <tr style=\"text-align: right;\">\n",
       "      <th></th>\n",
       "      <th>image_id</th>\n",
       "      <th>width</th>\n",
       "      <th>height</th>\n",
       "      <th>bbox</th>\n",
       "      <th>source</th>\n",
       "    </tr>\n",
       "  </thead>\n",
       "  <tbody>\n",
       "    <tr>\n",
       "      <th>0</th>\n",
       "      <td>b6ab77fd7</td>\n",
       "      <td>1024</td>\n",
       "      <td>1024</td>\n",
       "      <td>[834.0, 222.0, 56.0, 36.0]</td>\n",
       "      <td>usask_1</td>\n",
       "    </tr>\n",
       "    <tr>\n",
       "      <th>1</th>\n",
       "      <td>b6ab77fd7</td>\n",
       "      <td>1024</td>\n",
       "      <td>1024</td>\n",
       "      <td>[226.0, 548.0, 130.0, 58.0]</td>\n",
       "      <td>usask_1</td>\n",
       "    </tr>\n",
       "    <tr>\n",
       "      <th>2</th>\n",
       "      <td>b6ab77fd7</td>\n",
       "      <td>1024</td>\n",
       "      <td>1024</td>\n",
       "      <td>[377.0, 504.0, 74.0, 160.0]</td>\n",
       "      <td>usask_1</td>\n",
       "    </tr>\n",
       "    <tr>\n",
       "      <th>3</th>\n",
       "      <td>b6ab77fd7</td>\n",
       "      <td>1024</td>\n",
       "      <td>1024</td>\n",
       "      <td>[834.0, 95.0, 109.0, 107.0]</td>\n",
       "      <td>usask_1</td>\n",
       "    </tr>\n",
       "    <tr>\n",
       "      <th>4</th>\n",
       "      <td>b6ab77fd7</td>\n",
       "      <td>1024</td>\n",
       "      <td>1024</td>\n",
       "      <td>[26.0, 144.0, 124.0, 117.0]</td>\n",
       "      <td>usask_1</td>\n",
       "    </tr>\n",
       "  </tbody>\n",
       "</table>\n",
       "</div>"
      ],
      "text/plain": [
       "    image_id  width  height                         bbox   source\n",
       "0  b6ab77fd7   1024    1024   [834.0, 222.0, 56.0, 36.0]  usask_1\n",
       "1  b6ab77fd7   1024    1024  [226.0, 548.0, 130.0, 58.0]  usask_1\n",
       "2  b6ab77fd7   1024    1024  [377.0, 504.0, 74.0, 160.0]  usask_1\n",
       "3  b6ab77fd7   1024    1024  [834.0, 95.0, 109.0, 107.0]  usask_1\n",
       "4  b6ab77fd7   1024    1024  [26.0, 144.0, 124.0, 117.0]  usask_1"
      ]
     },
     "execution_count": 3,
     "metadata": {},
     "output_type": "execute_result"
    }
   ],
   "source": [
    "# Check out what is in train.csv\n",
    "train_df = pd.read_csv(\"../data/global-wheat-detection/train.csv\")\n",
    "print(f\"train.csv shape {train_df.shape}\")\n",
    "train_df.head()"
   ]
  },
  {
   "cell_type": "code",
   "execution_count": 4,
   "id": "c40a594f",
   "metadata": {},
   "outputs": [
    {
     "data": {
      "text/plain": [
       "image_id\n",
       "35b935b6c    116\n",
       "f1794c924    108\n",
       "f79336a8e    104\n",
       "134d4a01c    101\n",
       "4cf91995d     97\n",
       "            ... \n",
       "86296fc32      1\n",
       "ce4124be0      1\n",
       "4e6c05213      1\n",
       "a5cb30c38      1\n",
       "41457a646      1\n",
       "Name: count, Length: 3373, dtype: int64"
      ]
     },
     "metadata": {},
     "output_type": "display_data"
    },
    {
     "data": {
      "text/plain": [
       "width\n",
       "1024    147793\n",
       "Name: count, dtype: int64"
      ]
     },
     "metadata": {},
     "output_type": "display_data"
    },
    {
     "data": {
      "text/plain": [
       "height\n",
       "1024    147793\n",
       "Name: count, dtype: int64"
      ]
     },
     "metadata": {},
     "output_type": "display_data"
    },
    {
     "data": {
      "text/plain": [
       "bbox\n",
       "[972, 0, 52, 84]              2\n",
       "[0.0, 957.0, 79.0, 66.0]      2\n",
       "[372.0, 856.0, 66.0, 64.0]    2\n",
       "[302.0, 815.0, 64.0, 75.0]    2\n",
       "[0.0, 385.0, 56.0, 46.0]      2\n",
       "                             ..\n",
       "[0, 750, 39, 78]              1\n",
       "[121, 931, 119, 77]           1\n",
       "[279, 965, 91, 59]            1\n",
       "[588, 953, 81, 71]            1\n",
       "[875.0, 740.0, 94.0, 61.0]    1\n",
       "Name: count, Length: 147761, dtype: int64"
      ]
     },
     "metadata": {},
     "output_type": "display_data"
    },
    {
     "data": {
      "text/plain": [
       "source\n",
       "ethz_1       51489\n",
       "arvalis_1    45716\n",
       "rres_1       20236\n",
       "arvalis_3    16665\n",
       "usask_1       5807\n",
       "arvalis_2     4179\n",
       "inrae_1       3701\n",
       "Name: count, dtype: int64"
      ]
     },
     "metadata": {},
     "output_type": "display_data"
    }
   ],
   "source": [
    "# Look at unique values in each column\n",
    "for col in train_df.columns.to_list():\n",
    "    display(train_df[col].value_counts())"
   ]
  },
  {
   "cell_type": "markdown",
   "id": "d959c60f",
   "metadata": {},
   "source": [
    "```Observations```\n",
    "\n",
    "1. 3373 images, all 1024 x 1024 px\n",
    "2. Probably can disregard source\n",
    "3. I will need to draw the bounding boxes into each image id"
   ]
  },
  {
   "cell_type": "code",
   "execution_count": 5,
   "id": "daffc08b",
   "metadata": {},
   "outputs": [
    {
     "name": "stdout",
     "output_type": "stream",
     "text": [
      "Images in train folder: 3422\n",
      "Image suffixes: Counter({'.jpg': 3422})\n",
      "\n",
      "Images in test folder: 10\n",
      "Image suffixes: Counter({'.jpg': 10})\n",
      "['__add__', '__class__', '__class_getitem__', '__contains__', '__delattr__', '__delitem__', '__dir__', '__doc__', '__eq__', '__format__', '__ge__', '__getattribute__', '__getitem__', '__getstate__', '__gt__', '__hash__', '__iadd__', '__imul__', '__init__', '__init_subclass__', '__iter__', '__le__', '__len__', '__lt__', '__mul__', '__ne__', '__new__', '__reduce__', '__reduce_ex__', '__repr__', '__reversed__', '__rmul__', '__setattr__', '__setitem__', '__sizeof__', '__str__', '__subclasshook__', 'append', 'clear', 'copy', 'count', 'extend', 'index', 'insert', 'pop', 'remove', 'reverse', 'sort']\n"
     ]
    }
   ],
   "source": [
    "# Check number of images in train and test folder\n",
    "train_dir = \"../data/global-wheat-detection/train\"\n",
    "test_dir = \"../data/global-wheat-detection/test\"\n",
    "\n",
    "train_img = [image for image in Path(train_dir).iterdir()]\n",
    "train_img_ext_count = Counter([image.suffix for image in train_img])\n",
    "print(f\"Images in train folder: {len(train_img)}\")\n",
    "print(f\"Image suffixes: {train_img_ext_count}\")\n",
    "\n",
    "print()\n",
    "\n",
    "test_img = [image for image in Path(test_dir).iterdir()]\n",
    "test_img_ext_count = Counter([image.suffix for image in test_img])\n",
    "print(f\"Images in test folder: {len(test_img)}\")\n",
    "print(f\"Image suffixes: {test_img_ext_count}\")\n",
    "\n",
    "print(dir(train_img))"
   ]
  },
  {
   "cell_type": "code",
   "execution_count": null,
   "id": "2ae497c6",
   "metadata": {},
   "outputs": [],
   "source": []
  },
  {
   "cell_type": "markdown",
   "id": "ef52ca3a",
   "metadata": {},
   "source": [
    "```Observations```\n",
    "\n",
    "1. There are 3422 images in train folder, but only 3733 unique IDs in train.csv.\n",
    "    - Explore further to see which unique IDs do not have images in train folder\n",
    "2. All .jpg extension in train folder. Great"
   ]
  },
  {
   "cell_type": "code",
   "execution_count": null,
   "id": "d804bb79",
   "metadata": {},
   "outputs": [
    {
     "name": "stdout",
     "output_type": "stream",
     "text": [
      "3422\n",
      "3373\n",
      "['75d62c43e', 'a7436f5c7', '3049b3745', 'ef274ecdc', '6895c563e', 'fb9e42d30', '2c28cb6dd', '499bf6abd', 'f165314f1', '564832c17', '769309456', '5a61c3e15', '86e843e5e', '2643476a0', '49c3e4f6e', '2f2716b45', 'd145202eb', '7ebf61d5a', '2204976da', '82f88bab4', 'f290ed4e6', 'b5e7db94b', '9f2963463', '4b74f7320', '0cbcaf240', '8f796ab69', '69286a6cc', '382bf4ed7', 'ec6d53041', 'e08c90ebe', 'b5487f037', 'ba98d009b', 'f9cafa47f', '90184122e', '0adcb2a1a', 'e525a27f8', 'cdc68ad10', '1f3829014', '483f5b46c', 'b900ac004', '28c948177', '7c2780e55', '2e1ed4321', '9bedf6645', '2d8a88333', 'f0665430d', '4a2662fae', 'c34dd05a3', '015939012', '5f9cfe156', 'e840ecd4e', 'c742fa9ae', '0352a6fff', 'ac5bb0dfa', '92f3b252f', '56ace8298', 'aa171bd87', '20c7cc731', '9694225d3', '78cf5b3fd', 'fc8cf268b', '90d0bcc83', '509a7a9b5', 'ba586e514', '9181010cc', 'a23558330', '1b352d5fe', 'd13e3ffce', '3e0213b6f', '6a2eac670', '4af27998f', '809f14a6a', '059125072', '598e8cea3', '035bdc07a', 'b3c96d5ad', '5f0b34ad6', '73ebcf532', 'b373b765d', 'c6654ff53', 'd098bdc9b', 'eba970515', '9e21e7969', '03a177626', 'fda86ae9a', 'e84e8709a', '474a83c68', '2bc10136f', '96bf13ac5', 'c682d8c66', '54c4ea343', 'd606fe447', '0a3cb453f', 'b29274495', '3a84eba70', 'd3a6e23a3', '5530bd2c3', '26373af4b', '15153bb54', '866a328af', '24a832fa5', '0dd534f81', '958c0ad3d', '00b70a919', 'd2e7465f0', '5f3d068f1', '9637519d2', '0b7712f7a', '80111be66', 'eb56a281b', 'ea3537563', '66c96dce0', 'd8ea34c21', '5a28cf3a1', 'c0fa19bac', '56f169f38', 'efa2ec01b', 'e0861437e', '74068babf', '5b3ca5452', '069719eab', '49e34a567', 'bbdc7e299', '2b3c77755', '92c92d40d', '765f1b36a', '88a891a39', '505dfa497', 'c4224d4b2', 'a6c1cc190', '6d9127129', '2d07aba59', '539ee1a56', 'b22f456aa', '12ef135a7', '9bbee18cc', '69913c545', 'c1973a2fe', '7c7d269c8', '8851db816', '39f0b1003', '6246a382c', 'b77e8c906', '2c3d40735', 'e99cca2a3', '7087bc3b2', '824121036', '4c24f7168', '452fe4932', '47a1184e4', '6df511e97', '57a6b42c8', 'a90339a28', 'decc5459b', '15c025a28', '22c35fcbf', '70aff3f9e', 'c9175cfdd', '8f5e128e3', '37b0d5ea3', '810aba893', '76be097e9', '9c0466c9f', '69e509038', 'e8e90e8db', '399fce7aa', 'aeb9f155b', '152d16ce7', 'cf3ebbedd', '9eeec6b45', 'e8fb7d9a8', 'bb835a3d2', '69595016d', '7252dabad', '2b45c0165', 'c83d339fe', '8c5a33b46', '678011fc2', '4e2b8a4a6', 'b0d4a70e0', '86494833f', '346efc9f4', '2f53b1a20', '2c2c2a3d6', '199350a76', 'ed36e3b08', 'dbe68e1c1', '8b41eb776', '8c4bdc8ba', '07d6634c4', '4be09242b', '9e15ceea4', '8a7324c84', 'e3732d7b7', 'bf2c0adde', 'c45841e26', 'bb808af6f', 'a886d1e61', 'f54ff03a2', '7399292ea', 'cf770a944', 'c4b7bc850', '1c5f25cd1', 'f7d780303', 'f770b0e04', 'b035aabf0', 'e734652d6', '6bc82b5c6', '6bd3f949d', '666e0a853', '518f35565', 'c7532e8e6', '3455cbc17', 'ae5132628', '060543bbf', '060fd0cd8', 'e6b54d480', '655532cc7', '82f65a5ca', '5c347dff7', '868b0ff7e', 'f14055096', '22cb24fba', '311498261', 'e9f7ec6f1', '38b259a9e', '73ec26fe8', '4eb442168', '350530720', '0d2948e6d', '4d6921225', 'f9b92c9e9', '652903094', '1a62f5908', 'dd744ebfd', 'feb09b731', '1d554c619', '77d1f3c18', '00333207f', '5b13b8160', '376689e0c', '218338312', 'a57808743', 'ea0e9e846', '4767561f3', '89fc62745', '3abd6b428', '1da65492e', 'a9913b99c', '51f2e0a05', '0424c00e4', '09d50b59d', '8311f2e1f', '649ba7df7', '0d4128a74', '34f2e3b92', 'afde13f4a', 'da5063a1b', 'e837f4e67', '96367fda5', 'a40ab0738', 'e99667355', '4f4c6ee91', 'c223249af', '5adddbf87', '4f75a8d52', '718b1c7b8', 'a30ad4024', '81efcfbdd', '7f1833df2', '630b12b1a', '6202ea12d', '586a28040', 'bd9083329', '077ba8cca', '555f4fc58', '20a86a215', '013669953', '8c05f24c4', 'b35fb3de5', '49d76c63d', 'b96e8e1f5', '9140498c3', 'ddee53d7c', '060c572e4', 'e64e1c77b', 'c94e8a60c', '8d2a27ac7', 'b1341e5ff', 'f04d9c252', 'b5e726c10', 'e5c45da08', '636069d07', '1e2735260', 'ea43c14a3', '809d816dd', 'd78825345', '74f88a07b', '7ab4f3778', '25b66ccf8', 'fe133ccb4', 'e2e2b0975', 'e3d1d796c', '044078e70', '8e1543437', '80d651f47', '91c9d9c38', 'a6989b72e', 'f3cce7df3', '383817085', '38dc44b85', 'e1cff2554', 'c9f534ca0', 'a06dbb0fd', '755becfe1', 'f3089a3f2', '097af10ac', '037024e13', '099c4c2b9', '1a106f404', '8fb545c05', '3eeed3eda', 'd0e1c00bf', 'c7637f1dd', '144dca605', '79a1d0dad', '75735abbc', 'b65e07813', '6244395ed', '0f9717e87', '56cb8b67d', '1fab6aa6b', '99f9c7b01', 'f5e0e61e4', 'd63350a3d', '1f548e2f2', '88707bd69', '7eff8d967', '5c85e9eb3', '9d78cb5d0', '87d232ff4', '2adceacda', 'a7fca55c7', 'e91d7c41b', 'bd68a3064', '4e8584276', '99d5eb61c', '1adb61e33', '0dc9eb168', '528621931', 'bb1c3ce8f', '1909b7c5e', 'ac6b1b3a3', '2d93cee57', 'c57d53093', 'e40dcc2bf', '482d7c843', '2a4b71fcc', 'cf483de89', '444977945', '1dbc99ed8', 'd067ac2b1', 'bb3df77ab', '6c9cf179f', '466a4369a', '96efbda67', '0877092cc', 'd5bc2cad4', '787d3091c', 'ca3101e66', '9d137bb37', 'd94f9d8a2', '57a45fde6', 'e96942ed6', 'dac01a162', 'e87d43a13', '2ccec6dcc', '76bd18142', '0435654cd', 'a6afb2315', 'f6a861545', '5ccbf7419', 'fefd59985', '9d63ad423', 'c7d3b408d', '7538c9a97', 'fd9829305', '0d5525a7b', '37bcaaeb6', 'ff5c9104a', '57956c488', 'd15018a92', 'af785ce1e', '44b7163ea', 'd93838526', 'c8e5e50ec', 'ed5a791c1', 'f49d9b7d6', 'cff6e4b78', '610d45d1e', '93bad1af2', '3eda8f481', '737f28df2', 'ec196d18a', '6188edac2', '49a9d29b6', '9e50af3ab', '18059ff19', 'a3ce975cd', '5e7aab7a2', 'c2b54f1fe', '81020ba1b', '6f1e9046d', 'a5cb30c38', 'a1fcb07dd', '277fff409', '7e73872ad', '26a991110', 'bf2027ed3', '5aaf5b11f', '4d90cdad1', '6d1c9f629', '9f5a0c829', 'ab4ff3cfa', 'c35743243', '5041b4b98', '150cabe75', '3db3994f9', '5187b2d69', 'd50c71d8c', '6a0e4e8cf', '237051cce', 'f437363d5', 'fe641f02e', '4fb0ce1e5', 'bf4b052f1', 'ba35357cb', 'fd95e2677', 'b67b3c007', 'a5a10c597', 'c64a8e237', '2b2612efa', '25d38ec2c', 'fe7ecb1f4', '1aa099fd7', 'b6f8a915e', 'f7b557230', 'b6fff3f79', '7f0e525f3', 'b82f4b1cb', 'a93fe47af', 'df1ba5253', '8ca10d124', 'ade734b6a', '4413c8a73', '7fd1d7a57', '83995f53f', '613df3c8e', '68fa4a555', '59e521267', '960385146', 'c0ad0793a', '12b724773', 'b4d60b5a2', 'f7b02d4fc', 'b1c1aade8', 'f5093f57d', 'c9d60e075', '291fb66d1', '311a6b1e4', '411d24167', '895420d9f', '1def04f70', 'e12d1b023', '6fb67942f', 'f3d0759c8', 'bad015d3b', '29e44e305', '4c8159dbd', '511091599', '151d24916', 'da1835099', 'b9ffac7be', 'd9c104dce', '61ff5cdc2', '1772cb764', 'd54ece3f3', '00764ad5d', '5baa23af0', 'e3a86f7ff', 'e2523989d', 'd03bcfba1', '8473a95f7', '84a6298a3', '0e3074735', '84d4ca3d3', '9a591b677', '965b39ac8', 'b18b34ed2', 'b54755cf1', '58cef5c6c', '83aae58fa', '6a62af644', '8d2b5b90e', 'a13c89a7f', 'e4c9b3866', 'eb69f5522', '3eeb41f2a', '4bb2dc30e', 'ba18364b2', '950935ac1', '149bbb343', 'e224a64ba', '352e238a9', '477bdc144', '8f877bc06', 'ed00a614d', '8083f65f2', 'a94964eda', 'bd20bc5c9', '6f01adf08', '86a6ad825', 'a94d39f89', '7efb28abc', '0573ed37c', 'eaf18c504', '13050d5e4', '1bda74f14', 'e05767cda', '49dcb7dd3', 'c936df99a', '4ae715446', 'a3c24fcd4', '9f682802c', 'ffc870198', '7a9d28a53', 'ca2b57db7', 'da389bd36', '7d6074b93', '305bf8b23', '3f7abadea', 'f05647ed3', '4676009a9', '7b9dfab15', '4a4a1d3e0', 'd83808467', '6dd6c4960', 'b844b0d4f', 'f91e92fd4', '3c2b5bd45', 'e16a9d55e', '96fa00d50', '81d47ffe8', '2dbaac896', 'eefb4a7fa', '8b963f326', '1b5e821f9', '63c4e8cda', 'be03606e0', '4655fcc18', 'cecd9f0c7', '51af1e874', '684dfcf04', '9bc09acf1', 'ce9534fc2', '26a2693ec', '9cb0a5504', '4a875aa50', '73dbabe1f', '386e36c35', '45a6506a3', '42f5fe6a5', '7bf6e7991', 'b4dced91c', 'b47137eb7', '6c071b9da', '9f1d83913', 'd8e38159a', 'a81f68e82', '9ea2ef32b', '328dde875', 'f7ec99608', 'f75905272', '26b7c3188', 'dbfd38b38', 'c4731ac9e', '0989b2627', 'c5fe7d000', '6dbd83602', '4e06d497b', 'f121ee695', '45a13cbcd', '14e9933bb', '37e705df9', '0fb8ec104', '3744f2482', '32a203fe5', 'efe33a573', 'b95fd89e3', '4c572095f', 'e88d43ec5', '34c5e70d5', 'd6cd9fa5f', '4b3f6a162', 'd19c0b3c9', 'b26aeda3c', '41c0123cc', '9858d67dc', 'efc4f0374', '6bb270e8d', '0abbdee70', 'd43e719c7', 'c04bc8abb', '93d056da6', '3014e5cad', 'b3822b5cd', '80dbba8a7', 'c18c32da0', 'f364d25f0', 'ea04b734a', '64aff66ec', 'efcd88e30', '07a4d2b9e', 'cabe03050', 'e6b5e296d', '2072e9704', 'f995095e2', 'a1ecd6a63', '3d9125515', 'd22905ef2', '5018112f2', 'bd5cb3bc5', '9832f05e1', 'b6b899073', '570ca24af', 'c89aed93e', '3ed7c19f0', 'fe0d6c114', 'e1f6c91bb', '400553ddc', '93de65f55', '1e6d99635', 'c23c950a9', '05c6591ee', '8fdab2078', 'ce7375bad', 'a77598408', '0b2967a7a', '3badddaf9', '35b935b6c', '9ddb20382', '2d65f77fb', '398708128', 'da3cfa3d4', '9ed44dd50', 'e8f39c2b2', '91fefb8e4', '060740e25', 'aca4fa91a', '79d5a9b6b', 'f8e590769', '17117532b', '02d662fa8', '2c534b9b6', 'c31bf0e39', '773c33268', 'd8cae4d1b', '0ebac9a23', '999645d8a', '133f92be6', 'd1e5fae98', '65d0b13aa', 'd4949ae24', 'ad94558cf', '17edbcd63', '2dfd889a2', '8e132157b', '0cf7ef43d', '2f204a70c', '2cae223a8', '48fbd2ed7', '7dac36eaa', '5d6d64e39', 'a44424f39', '9bccf7e53', '286af845e', '465a8a521', '81eb8a758', '4f13bffbc', 'a6aeedae1', '041707ba8', '0980aa079', 'eb023ea4c', '3dd22103f', '6f10a6f8f', '2443092e6', '29f8a1f30', 'dc1406483', '89376d6f5', '0d3bd5eac', 'ef156f858', 'd73c6d06d', 'b00b900a1', 'e6b5f3375', '826d92f06', '10c433ecf', '1a394df35', 'a0ae5ad8e', '23e761109', '53d0a8b5a', 'e30cd9270', '284a79f05', '4b4639da9', '0d08bc31f', '75132304c', 'f8d155138', 'e2251ed47', '9cd2ec689', '91fb0d442', '27ab890c9', '70dd6f08f', 'efda9b4e7', '1f9a8abcd', 'f059e0c19', 'a5c5d1e9f', '93aff3b78', '63fe1ddab', '762743596', '0ce3a22a3', 'eae9f9037', 'f72cabcea', '3edfa2df0', '6a82e6e98', '96db737c8', 'c83c24607', '1aebf1c4c', 'c6a299f4d', '4c55b9a80', '1d2950c50', '7264c58b9', 'fde56a455', 'e6af2a27e', 'fcaaff29d', 'ea65602e0', '1ae79fd9b', 'd73cee5d1', '6d262fcb8', '0b47876ec', '19ecc4446', 'ed88cccdc', 'ebaa9b7d6', '4341d37a9', '1f255e0c5', 'fc0978226', 'f3c5e09ab', '463a95dac', '8957ffae2', 'd83e84d60', 'fe2a54e65', 'fcbc77665', 'f3ed7c4ee', '5e0747034', 'd1d96eae9', 'afb7671e5', '43b921912', '0e0a0483e', '44c60402e', '5d31186c4', 'ffdf83e42', '1e92a05ab', 'ba746e119', '05e946e1f', 'c00c660fc', 'a17be4ebe', '625c80346', 'b30d051ab', '20331cd3a', 'efb3d3fb9', '8d4ad2942', 'ac1e7253a', 'dc50efc2c', '233cb8750', '72bb74284', '9ebdbabff', '7969968d8', 'b3b2e3768', '64a883d10', 'ad3fea21b', '43966050a', '0cbe3f32c', 'b030ec7d3', '5ba57fd72', 'd8d946295', '97851b9c6', 'c8927c5e1', '8a7178ad5', '6d27a58b7', 'be589b720', '9b260d538', '16a0dc111', '540b11d4a', 'ddc160ce0', 'ec2bacd29', '8a29ab483', '15feda382', 'd94a7f88a', '58bea1a2d', '21a9818dd', 'be6c72a2c', 'b3868e293', '0abc443ae', 'dc7f9cee6', '7e416089d', '43a765c3e', '81b76f372', '4ffeedce2', '0bff84dd0', '4b95f5e5a', 'f244c9c23', 'c29961ce8', '0126b7d11', '12fc83edf', 'c4f586e0e', '990188afc', '8417e5762', '76f679a5c', 'f6afe5443', 'd006084f3', '16d922704', '7ea965d99', '461d55f4b', '140ef3997', '77311ad58', '5c87c1bdd', 'c7b9b6d62', 'a5bdccb5f', '6d1ff0f34', '70581f4f9', 'e025eb941', '04981ca30', '71d2a4b3c', 'bd53c4a79', 'ff1716939', 'ffaa964a2', 'f4f169106', 'c2d23766d', '78746472c', 'dd73b74f0', '5a76259a0', 'b902a5132', '4e6891a56', '72c3714bc', '9d0eb23a0', '7c6e9829c', '1c2c0786b', '772be0d11', '9780d64f5', '28b8ba0aa', '12d014f3e', 'af14863c5', '50ee1a4fc', 'e84d2bbd1', '5df7b74dd', 'a0f951ca5', '7b7a3b322', '4caebe5ac', '80f1cb7ee', '625311180', '0a9f24bdc', '263daaccf', '93224e554', '83842ec14', '92f5a5ad3', '4b869fa1c', '84e6957ae', 'ee8a5cbbc', '4c7fc04f6', '7b3a5ad53', '8ea56fe8f', 'eb3cffc94', '92b234199', '702385560', '4be2817ef', '13354f036', 'a0d6d5690', '997a7cf9b', '833577238', '99e092761', '66d91891d', '24dda66d6', 'af7f4eb72', '93be53f09', '46c6a747a', '7eb1333b8', '3cbee7440', '44546c006', 'c8909d7a1', '51544e05c', '8a24885c6', '4b0b5b4bd', '1e9ff110c', '79c8a1627', 'f87bfb048', '4525e9579', '8ffe2f23a', '43ac88073', '2eaac7a41', '9e264ff04', 'e1427550f', 'e77387385', 'c76f1c69b', 'edf831418', 'a3c792f9a', 'ad256655b', 'e16f7b9c3', '01f37f1d3', '84411af4b', 'afd82a1d7', '76b0b1204', '0d2e2b65b', 'a70061d2b', 'c1577d6ff', '49476a3c4', '1443b3f7a', 'ae23fd95e', '7826a88b5', '13d56dca0', 'f279ed35d', '2c7638ee8', '830ec2411', 'e6e48fa5d', '4de022cd4', 'c434ccb01', 'fb2eae229', 'd5ac4c940', 'ec2098ac5', '63f63c857', '2e262da1c', '119969932', 'a5c8d5f5c', '77d1a2316', 'a5cdd6362', 'd1931b6bd', 'dc7c60052', '46630486d', '87c6acaae', 'fa7ceeea7', 'b56668db8', '7b89e388a', '772287113', '4764548b9', '29a85cd12', '266826a59', 'bbce58f71', 'fade0e053', '9658b9c3c', 'f57f7edd1', 'f8f466cc9', '9f63a1b8f', 'ba05c7bde', 'de2a3cf37', 'e6af62317', '83521e96e', '875f97516', '06152e5bf', 'bcf1dfc59', '227971e53', 'a06a8b39f', '58c6beb2d', '7aef54163', '614b1d8c5', 'fe5c1ea5a', '71bd00b15', '8947f1a02', 'a93b2e119', '893938464', '00b5fefed', 'eab32c67a', 'ed380c762', '29ffadaf3', 'e1e3b78ab', '116a6fceb', '04fe56fd3', '84f805c08', 'f5837f263', '722b46d6b', '6e43d71ec', '948c989ef', 'c90bf4552', 'c0cb6aa18', '35d6a4509', '988a60e6e', '63467d323', '200b3c316', '1cf002747', 'd1b7acd1d', '8841bcb77', '55aecc5b4', 'fe287c574', 'ea74ca09f', 'd7612c04a', '3ab9d0640', '4f14fa438', 'ab8fa9772', '0785826af', '2c7241d19', '6651c6f2f', 'b28fb55cc', '006a994f7', '7c3570738', '5d6ce1c78', '7c5221c68', '48dd5506a', 'cf870354f', '14fd84198', 'a6c205e19', '258c0d943', '32494cc53', 'fe342a5bf', '91f19054e', '3d39ed7cf', '148075f03', 'e98b9f03a', 'dd739823b', '11f24467f', '3f23c607b', '340ac8d52', '56d56e9e8', 'ebcd9b081', '94265d02a', '01189a3c3', 'df53b43f1', '46727d887', '4710cf119', '95b0a4ff7', '2e0c19135', 'e5ab88ff3', '010dbcc8f', '151f2893a', 'ad59fa99c', '6e8842770', '92a875c63', 'aa457091c', '93abe3225', '59ab1cdd7', '6d34eb3b2', '854b60f75', '2d635716b', '684a2c62a', '302fd5e69', '331cefee1', '0a4408b37', 'a9aabd0c8', '19c242397', 'b80ec5988', '4cf58e2d1', '47dcd5b34', '612b21960', '939c5d28b', 'e764fa818', 'e089dca60', 'b1cf5e43c', 'ce3999eb9', '897b97c11', '2cfe966d3', 'ecebd6179', 'b39cc58f6', '0a7338e6f', '311a8b9db', '701c2e3e9', 'ceb6406ab', '9e29f753b', '5dc28374a', '9a34996be', '6c583e722', '186c66a2c', '16e5c6372', '8bad19780', 'e277cec54', 'cc9092474', '43cf9ed10', '31c085c60', 'b3e72b002', '4646dcda7', 'ded3279c6', '64b352e9a', 'a28a4ad8c', '3ee6fd90a', '42c7bc230', '14c66436c', '077c0bddb', '72f2eca3a', '6b2a72b4f', 'ecb47fac5', '9aa0487b0', '286719f2f', '489706bb1', '66d517e44', 'a7e9ac14b', 'db0fdecd3', 'b33ff76a8', '5016adc4b', '33f469471', '6bfbcee57', 'feb78a8de', '291a9f4c4', '5498d5aae', '8302fe8b8', 'bc49e2888', 'b899eec9f', '229716799', 'ac47b0c64', '1856c545d', '375a4795b', 'ed168fff1', '1970cbf85', '09798007b', 'c07d3abee', '3843b28ec', '24fb4b33d', '2391f283f', '9b58d4c4e', '947117f47', '85c9f89e3', 'fe1266f43', 'fb6e8bd3f', '8b89a4833', 'c8237c2e6', '42e247347', '9dcba0cab', '5901a73fe', '7fcfe0ae1', 'de6f7f6c1', '19b035d25', '238c6cea4', 'ed59f37d2', '34f7f196b', '8a4c0d077', '4e7b1a596', 'c7c9b4e72', '2474376a6', '8f05b9e06', '57284abbb', 'a4cc2650d', '0e2be222f', 'bd33b4fef', '620d8294a', '8f65fc2b9', '4d77c47b6', 'e4ec17f9b', '3dc3a72f9', 'd79169f0e', 'e6277ce7c', '48bdfec34', '0fcdc222b', 'cce5cb631', '7ccd0f00c', 'dcbb21e40', '8fee7acd5', '73c28bef8', 'c4dc3c575', '9052c4be4', '6e3da4ae3', 'a4dd288c0', '108c78542', '74aa7fe9d', 'b7c97a57b', '60913f4db', '14716eed5', 'f5c2143dc', '876d458f2', '5343c02b0', 'bf697b8c4', '994ec0471', '0fd4ca0d4', '522b1ba70', '7099cf18a', '557d15524', 'b67b4d2e8', 'dc620a761', 'd7e657453', '0b5b60131', 'f0a52d979', '2d0fc19b8', '976746c7d', 'f2a6804d2', 'e5c9056ab', '029e03e52', 'a7e2015b3', 'eba411885', 'fad9380e5', '80d3bc82b', 'fb0a8b6b3', '614640a0b', '7220f6fa6', '4285f0271', 'a326e7d8e', '20697ca8f', 'f54dedb60', '1946be26b', '036cbd683', 'ab23f5b74', '2cb361be8', '60fcdcd44', '5a5fff341', 'fe14db6a5', 'b95e8d11b', 'd6d7c33f9', 'fa4fc6647', 'da0c40152', 'c02bfe3f2', '8af3fc5af', 'af4f717aa', '498261a4b', 'ec40e9764', '60b440046', 'db3eb3f0c', '77683d1a4', '785755a9c', '8afea785a', '3753c58f7', '586607520', '9fd01faae', 'dec23c826', '11c916a8a', '8a3f6d1fe', '4eb328c36', 'b8ddb6c73', '97ba6330a', '9c01f3217', '51bf3f631', '0478cbc2a', '8405c37aa', 'dbcfa06bd', 'bd1bb8628', 'fd30a89bb', '26d5c0e4a', 'c6e6f5527', 'c6454073b', '28d5ba56a', 'bb9be63d1', '619cb231d', 'dc11d49a0', 'c3fa071f6', '1d54a26d7', 'd6341ae47', 'd5943ea17', 'dd5dd7c60', '5a9a55ae5', '371563f00', 'eca204c85', 'dafa14917', 'd4652c53b', '687972820', '42f5d5a5e', 'e5b2763a1', '277fa7280', 'bb9c7a94a', '43ab45d4b', 'eee4c334e', '378966871', 'c8c449bf0', '546a0e9fc', '44e31e39f', '602e4b162', '81e06a4cd', '92c083d34', '4276fddc7', '62ec8d906', '4021d47d4', 'f438c0466', '8d066eb98', '9a1947520', '7ea16f78f', 'c94f8dd92', '43f9b9fc5', 'e4b7e3af6', '7a9d1d1f2', '966c3ebc6', 'dcafcae79', '9cadbf983', 'ac4e4e682', '6a888dbcf', 'e7337325d', 'f1b3454ff', 'f56264532', '241bbc684', 'b0a22c629', '96b19d664', '9c72bafb6', 'a685fbf20', '967982605', 'c39f45ee0', 'd4abcc41e', '086349fe8', '3b552c95a', '4a66347dc', '752ae9486', '18cefbf07', '0ca276259', '4c1c5eca7', '3d1c7f78a', 'b8402b0ce', 'f10db69eb', '823c71a4b', 'ab2dc3037', '07ebc6045', '2c39acc31', 'b13f38e6f', '39cb95bc9', '920d0cdad', '572a469e9', '4b6281d55', '3c0d9abaa', '41761631b', '1118ba1b9', 'ebbc11f78', '67bc08594', 'dacaf5c55', 'cfc9040ca', 'e2e13ad15', '46e480374', '2cffefd1a', 'a28dcf45d', 'ccf5706ef', '8a948e84b', 'e6e510348', '8b7d61473', '7f84d451f', '1914c04d6', 'a0b9b2399', '1577c6651', 'c08aa4a62', '50c47d6b5', '4883da2a8', '901ee2848', '764c88483', '1b547b682', 'f74ede365', 'e6e15309d', 'd32f90542', '8d4f8b1cc', '1436244cc', '031ed396f', '39a0e5556', '18f8b24f1', 'e69cbaece', '7d5af5b74', '1951b2916', '45a203e70', '08dd31605', '06a78c36e', 'cbbc58a4c', '7e1caf1f7', '1ebc11f19', 'ae876f3ef', '06fdd4941', 'c009d9de3', '8dcecab03', 'b61ff5016', 'fb2b30bc9', '7718ea4e9', 'd0ab06fc3', 'e1258e054', '0f9100915', '818abfa22', '8d0b36c74', '4130b2b02', 'fa0f32e52', '24a90b0dd', 'e5c0a16c5', 'c1bea7def', '9efadd5cd', 'ee8c82355', 'c87c9e9b2', '1d74edc1e', 'fe3d17ee2', '713c56d36', 'b7a50fdd9', '48269749e', 'f02cb9a6a', 'b824c0e55', 'de7b4de8c', '4870004e7', '13a368f78', '33c69a58a', '4cfb86eff', '6e6f7dd89', '1b10b9fa1', '900d273d2', '1d7d9fda3', '667b4a999', '25fcffb8e', '944c60a15', '51260fee0', '7939edac8', '8b91f99a6', '6939a6e17', '03173a1a5', 'f5e3315ab', '72fa543d6', 'a3ec4d1d3', '864210505', 'a7a86396e', '7e0523b81', '37191de77', '31b58b813', '44afd181e', '1b399c9a7', 'ecc61faef', '5f8ec0456', '69c5b6df3', '990c1777d', '03dd40d7b', 'e2caa2ca7', '863e0253e', 'c446944d6', '726539191', 'b48a55da3', '29dc6c59a', 'c60a61cf5', '04f906b5d', 'a750327c3', 'a047ef30d', '409a8490c', '458b7beb9', '9071d1211', '0eab1baab', '92dbf3418', '6639b23df', '511dfeca3', '95027fbd4', '1bb0c013a', '80e6b6670', '6a4d4d9bd', '920923400', 'de03078a2', 'f6181ac93', 'a5c07f2af', 'e38514029', 'ea88fb8ec', 'b3bd71a4b', '5a4432266', 'a20516192', '13395ae85', 'd6fdbf90e', '3940de6a5', 'd561f23d2', 'b1643e118', '740d3c904', '52c457b5d', 'b69255534', 'd4c3b28f4', 'dac6b76fc', '1478a32b8', 'c968cffa4', '9522e96d8', '23f9b6e0f', '5a0e2133c', '8a7d9b4b0', 'd0ca0d7a0', '644eff133', 'c39699dba', '132a92818', '7cb9748c4', 'dc8e4942d', '70083c73e', '462d4d062', '3e2e50976', 'a76360ece', '1ecc491e7', 'bead3cebe', '79adcb57c', '789511da9', '91b435dbb', '77f6e7caf', '25b347123', '0e90d45c6', '7c23b7b20', 'e5e1f2c65', 'f98d398d0', '2d06b68f0', '94b3764f6', '3d74e4614', '526a2a9ef', 'b2b578c39', 'e3471d3c2', '94e3ee08b', '3f1c5459a', '251ed33a8', '136b1f936', '2073fe7f7', '510c8e6f2', 'c73f0a714', 'a677f18d9', 'c164bb5bb', '42e6efaaa', '6231cf54f', '6ef6fc905', 'ca4cb597b', '3d5f3124e', 'f005a8ebe', 'd1ea44cc7', '80ea429bf', '7e75b3e43', '05522807e', 'c14c1e300', '69f565b5a', 'c35347675', 'b1e31c10b', 'd36c62b8a', '14da8934d', '02fe8c28e', 'e1c0e82fd', '566c90045', 'b3c320e1b', 'eea7d700c', '3b829f3b0', '09b2de97e', '4b7c94e8f', 'fc6860020', '27e4c01d7', '3ce598c96', '2d72a5f04', 'aeff69b31', '6f24b1bab', 'f931c0224', 'cd243b0b0', 'af101aa29', '2d159a876', '83a94fc79', 'b5a90214f', '0aef2f67e', 'ad62f80f2', '5a986886b', 'e0067b663', 'c88836133', 'e0a241bd5', 'ccd5d31da', 'aa10c1bab', '91d4e3750', '40ca794c1', 'a1321ca95', '32f716667', '7727eeebc', 'cb3236ed5', '4cb33fd6e', '39614e195', '33d37a437', '999d9d27d', '5780f8065', '2b32a4cc4', 'b75c3bb71', '0ba2166af', '89fe13786', '7820f5412', 'd71353153', '60cb22568', '4311e0c38', '88114e632', '12e8267b0', 'e4cc39cbf', '692570572', 'e7527a057', '4e5c1078d', '900dd018d', '13c91a4ed', 'b1b1b8fba', 'd63d5214a', 'd3b3b5628', '4fbf0c8b7', '7803a8211', 'ffbb9c623', '88f3e7313', '9e4780f8b', '467dee148', 'b04239da0', '83f971b12', 'cdd3bc83b', 'fabd1d799', 'c631c7fdb', '725c243a7', '1a6f43e22', '9aea92dce', '9ef3c0a46', '7e011d07b', 'd6d425855', '975c97e30', '09eb21d04', '7aa682e0f', '26cfef469', 'd60e832a5', '9ce6888c9', '7c4a4a55c', 'eeb2213cd', '79eca0678', 'bc64c4252', 'ed23785c8', '647cf0c68', 'c022ddc42', 'f52f20733', 'e9dc0cf8f', 'ca56c6d41', 'a519e5a11', 'a3695f973', 'ad6e9eea2', 'c808023f3', 'd61ad418f', '4a609f334', '70b693efe', '7b7b3c08f', 'c25cf1f92', 'de544d27c', '41630f18f', 'c4ffde64b', '7b138337f', '5aa3b67b7', '2840176b4', '23e3b5130', '37a28463a', '5c2312362', '53099e7e0', '0b9624bd4', '4e0cf51fd', 'b44b1faa9', '531acb360', '84f077ae5', 'e9d060d22', '9617b0de8', '00b5c6764', '17f1fa29e', '2630babc5', '0594af5a7', '63c207ea9', '52a0abc4b', '71b460a14', '8c8ab21bc', 'dc8b73725', 'e1fe7d33c', 'cab50874d', 'ab026459d', '3d765f241', '1b3376c60', '478e21230', '798a261f0', 'd8f09768d', 'fae71c97b', '625fca045', '4ef7057d7', 'bf90bf2ec', '3e5cf1ed6', '408eff4a9', 'eac655fcc', '36d1cc44b', '9613afcb6', '347ecba39', 'bbec6e514', 'a3cf26f70', '8f3e2b4e8', 'f9aabfc48', 'f6d969b95', '16501f9a1', 'a39887dc2', '6e69bf773', '894baab2e', 'ebc1c07c1', '3684c0fae', 'd69f6d767', 'c3a8a41cd', 'b3d2304bf', '19f4faf0f', '515e496a4', '23a6dd55f', 'de3c12de1', '8301297cc', '9b783b776', 'a024116dc', '744ea960b', '03a988adf', 'ed1270725', 'fa9d798b1', 'f070c6f18', '8bc56fb34', 'f79336a8e', '5e0a7fb4d', '6b2a591e8', '59ade64e1', '58ce0381b', '6d993d18d', 'e36eca699', 'ad67b76a3', '54668a040', '7fd06d0d9', '876e9fc9b', '9aa5dec56', '6b51ff205', '49fbdf27c', '3c377bf39', 'b6a159fd4', '4ecd10d42', '57c9b9982', '4d0e29915', '2b5e0f1a2', '2de7cc0c9', '34d3f0351', '480c01244', '2f8461229', '19255ce1d', 'ce367f7d6', '2d990708e', 'c01baaca6', '42b47b7e1', 'b2672900e', '217c8fd61', 'ae5b2d4b3', '4bfb54f09', '8e862faf8', '5c87e3fc3', '6434a5bc8', '3fd04f5cd', '655ef2d6b', '26d7e7074', '85e11a8bc', 'bce2fdc4d', 'f9c577690', 'e0a1eadbe', '4c5dc3f2b', '9b4ad2587', '40f547633', '666ca30b3', '2ccb37ea9', 'ddce42b64', '3f2eddbe8', '849061b2b', 'f99daf7f6', 'dc6ca8430', 'cea58b404', 'caa7d043e', '70b617a5e', '15cbc2623', '98ce36a93', '620e2aee4', 'ffbfe7cc0', '51eff11e9', 'ea89a7320', 'cf0401699', '55deda461', 'fa060c1f8', '43650fd9c', 'b88fcdafb', 'a18ff674f', '598cea123', '6ea7c07f2', 'c00e6b4c5', 'd2265cb91', '4688d25ab', 'ef5f2070d', 'ea72a0c0c', '06b42df4e', '68561559e', '701fdbf87', 'ef0d01fae', '59afb9acf', '70282d0fc', '793ef2974', '45d452a61', '623f804bb', '69b3074c4', 'ac891ac35', '7257fdd84', '768a74e08', 'fd8b236e8', '0e86615d0', '45402cfbb', 'dfc6a2bcc', '8bd104266', '4e02ed1d3', 'f15aa967e', '9fbe82f43', 'e11b95f4e', '7227652d3', '688e051dc', '125118d1d', 'a127f3085', 'c2fd0893f', '5d41661cc', 'd2ae1e503', '59d43a53f', '25cd221bb', 'b922186af', '9561a71a0', 'ccb3892c1', '00ea5e5ee', '2cc952ee8', 'ab9e2d432', '290ae67be', 'd557e8635', 'daab3de13', '1fe63a46a', 'c8851847c', '6efc51980', '12f742390', '7bca11467', 'd3b4a0cdf', 'a897f8dc8', '708553a80', '19fdbeb90', '1794c0a24', 'c7ba07095', 'ed7c302a2', '3ae057d35', 'b9e747e1b', '8930b9069', 'f8d848989', '9043b1fcf', 'b70d3e890', 'cb256df87', '9a3fe7557', 'ca7d49213', 'a673347b1', 'b1990fa45', 'ba3404681', '44a6fa0ce', '2dda3a53d', '2bd2f0714', '0cbb43d45', '5fab819b3', 'e2018867c', '65d6480b2', '9a9f42302', '1f2b1a759', '4cdcd49d4', '7c659d49a', '46e49521e', '8b67401f1', 'e721e6416', 'd781b9195', '41457a646', '93f9b571e', '8b9adf007', '037d96952', '030314634', 'e321272b3', '2d6b777d8', '9c05c8d56', '539eab290', '86a279fe3', '69855d3de', '51d7e0c3d', '2ac5f9e85', '68fedffd4', '2fc0fadfa', 'd35243cd0', '49e40c7a4', '85631af25', 'fdbdb35fc', '4ddaaf93f', '5e30f8f4d', '7cb03cdc1', '7c9096e13', '980c88da5', '03a242bd2', '7e971fbec', 'd17ddb23c', '97b19f207', '68b603861', '9a50eab86', '1964e90f0', '09bcc5259', 'd6a22baf0', '15f3f1f01', '67e5c5d41', '147830115', '327ace967', '452859b3a', '556c18af4', 'df7596db7', '4bfd5f95e', 'e7a1b379d', '3cf4abfb6', '8ecb44432', 'd493fef8c', '15babe6dd', 'eb42212f3', '372d12c55', '516218913', 'b24a3ecee', '61a658026', '4a44057d7', 'e16e3b2c6', 'c9b23ec87', 'd4811c163', 'd03043abb', 'f251e40f2', '3cb9f2e8c', '09b4141a6', '229d8a499', '9182c159f', '9983d297c', '3f5b4ef85', '78b0bf2ec', '3b2183a3c', 'aa82bfd6a', '3ead80a57', '178d835fd', '58c193340', '3dd44c524', '22f341965', '777fa71f7', '00e903abe', 'efffe90b4', '2bfadaa91', '7ff95f9ec', '7a77062fb', 'b815af10b', '77222a135', '94edec090', 'b65a59339', '7cca42bf6', '5ccb447e6', 'c233d242d', 'd4d1c9bc4', 'a815bae49', '731334e31', '87a35ba94', 'af861c3be', '537395836', 'aca5a7a07', '07f519e11', 'b7fc05af8', '07479da31', '27da826ad', '12786fe3b', 'df74fc663', 'ac83702f3', '34df9ca13', 'a78141039', 'a2b9aabde', '6a9c581d2', 'a1092f6d4', '5c6197826', '045d846eb', 'e6f19d1d7', '526d737d1', '5fdc74081', '86426e386', '1708360c3', '6ca0ef373', '94aee84d6', 'a7b16a92f', '7d827f03c', '95ee952ba', '2f03889ab', '4153dca13', '169be79d1', 'aec95891a', 'f3fcfaa0d', '03ad2a35c', 'a88470ebd', '475d3a571', 'ca4769387', 'aa7eba834', 'a85f39e3d', 'dd8ad50bd', '18df0fea9', '088d3df51', '8764d55c1', 'f530a5d4b', 'be2ce55d5', '0dbfcf802', '763327404', '4759e7258', 'b7c9166b6', 'e9ebaec07', '7fc9fe138', 'c988834c9', 'f21c0d164', 'f9ece438e', '80833051d', 'ccb8097e3', '87c24665e', '83bfee8fd', '28e0fc5e4', 'd8616bdd1', 'fa068329f', '40d727f36', 'b72ba28ed', 'fd151ae52', '4a8b1ad4a', 'c52f29668', '3c14db5cc', '1a39607ca', 'ffb445410', 'd39457b35', '6e58d4ea0', '5de7e4f98', '657f6bf98', '66ee3048c', '257e96563', '6f9bcd471', '65f13d74f', 'a700357af', 'e18bbfc52', 'cf1d2f504', 'dc3b08dc0', 'f98dd1c09', '1b2b1fe9c', 'e4b256788', '2c836cccb', '147706d0f', 'a099be857', '582bcd162', 'ce2e2fe79', 'f0da7b69a', 'd0a00b792', 'b5264e0ad', '6ab50eedf', 'b70c20580', '31eb0625d', '152800a47', '3e6110840', '269a5f98e', 'ba290b964', 'c6b4933f7', 'd705ca450', '73ed5eb37', '331c69189', 'cf3adb4de', 'dd5d2fa9e', '34b96b38e', '034090252', '93c9d721e', 'affe1643d', 'a20b36593', '94f80c57a', '3bf5b5ee1', '7e69fb4da', '31a6e55f2', 'a45f016c2', 'b0a8fcaf8', 'a97b31e99', 'f0b1b4fa3', '84053c39b', 'a783f9679', '633807391', 'e755efa77', '8549afcd5', '27e98fa26', 'bf30984fd', 'c6d94be4c', 'cc81eb577', 'f894aeaa3', '9fd1b7929', '20ebdfc4b', '839814a17', '11182d7ae', '817ab3693', 'ee49343d5', '46930c2f2', 'b70b381d0', 'cff3446c8', '88a2a7edd', '4ce73a46c', 'edf1fad26', 'a9dce39f3', 'f4bc4d24c', '85189f1bf', 'f57f29ac1', '9c832432c', '6f0b47178', 'ad5ef99be', '58adb478f', 'b868e25ce', '36fb90706', '96fa7bbcb', 'f42cfb1b4', '9adca8ff8', '855ca82c7', '4e652f7f1', 'ddd60739d', '38b19d4f5', 'b9d2dbd0f', '3dd0a7c0e', 'a36608629', '1b3380c60', '2c793443e', 'd7a02151d', 'fe125f8a6', '3c6f520ee', '15c21964a', 'c88f6408f', 'dc8edd6b7', '5f9151e33', 'ef0a4ba44', '224017b57', '8498f5a6c', '5b032a98f', '5cbd092f9', '3712db803', '1364f7561', '19cf6f16c', 'a2d3f8588', '8f801ee53', '677da7510', '0e0e3b0b9', 'fe5c215e2', 'c40c32697', '0cca0ffc8', 'f985e704d', '14d856fb1', 'bad10b9c4', '025ea7326', '8f54c057d', 'bf0631017', '07dc460bc', '073d83544', '42099cf54', '12a15fe77', 'e5f11f689', 'b0caf416d', 'db1af9327', '02f0fe2ca', '70d39ea64', '84cdd23e4', '26eada42f', '41f3feb3c', 'd771bb084', '4db6e2e94', 'f4c7f63e6', 'b74131d1f', '6c1af9100', '09ba65605', '7c91c33f0', 'be29a83ad', '7c79cea8f', '0bbb17b82', 'fcf3194f7', 'c8defc0d1', '8b2f86ea1', '4e9096ca9', '5c64b986e', 'cc236443b', 'c580831f7', 'be5ba0745', 'bb8e9a0a1', 'ecf19610a', 'a2cc1210b', '3e684e1cc', '37073b5c1', 'aadc1fd23', '399260323', 'a57962536', '8d6bb70e5', 'f84383b38', '4e6c05213', '344bdc291', '1908103f1', '6d1879f19', '89fb3f19c', '5834f6ee5', '5559af3a9', '0679b8bab', 'a346a6b04', 'f04a71a47', '2ff4e8bb0', '61bcac952', 'cc4d168f6', 'a764cea1f', '901e23e9b', '04b7f3a15', '038432e90', '8d11a0488', '303def58d', '4d12fea62', 'b0833ce3d', 'be0fd10b4', '901a650fb', '4789e5c97', 'bff5440bc', '1a13195b8', 'de4e0eecf', '155e8d59d', 'b2d397a82', '2b7b5621c', 'd5814b3c4', '47e218059', 'e4074a235', 'a8e1c8b37', '0fd63ed98', '44b73b40d', '4d60c73db', '2ffc9e0d3', 'ca08214f1', 'fb456d16f', '6c31301ae', 'afb9f53cd', 'c74ca81bd', 'cd2578a38', '890182186', '4132df01d', '03448724b', '27bf608b8', 'b59778e6b', '43bc260d9', 'b628691a2', '6994e1821', 'dd3e3f071', 'fe6e2ecbc', '35b59e0a0', 'c3bdd1b3a', 'f65604566', 'd64fc42f7', '45aabed56', '44463860f', 'b9bffd5e2', '1c3032ee8', 'a6a921e82', 'e8a274b57', 'c6ca898c2', 'e90129be4', '010b216d4', '7b72ea0fb', '13f7f0e24', 'a44840527', 'd136f8db2', '8d9aaa54d', '8bd3806b7', '643778d09', '218a99bee', '84c56dc93', 'ab1bb325c', '26263f228', 'd0912a485', '7f4d07cc0', 'a4c89beca', '03cae970d', 'bcb8e2fb7', '73ebe3acc', '7b44cb250', 'e991f2e06', 'f1b34145a', '2e867b62b', 'b46dce732', 'f20ba2db5', 'cf077ea2b', '2ae9c276f', '19fd72f8b', '0c7af1841', '9ba7810c6', 'd9a2181ed', 'feac3a701', '6a7cbd408', '7f01525b1', 'f1016e0ea', 'aa29cef4a', '7afe5795e', '0ca410614', '5ec31deb1', '551902572', 'd781eb0c1', 'c9d1bc268', 'be9f01839', '0e7832f0b', '79ce67248', '4dd820b52', '2d9f247fb', '618e1cac0', 'f5f5a9d30', '96c9c8e23', 'f233cfd8b', 'af32eb10c', '94f338c6d', 'f1ecbf9d4', '3b07735f3', 'c47a1b214', '9ad34dab3', '9fe944c85', 'ebcb11aa2', '56c1bc7f0', '7ba4db1d7', '86b661ae0', 'c04c3f192', 'ae1ec9804', 'ab81b2342', '203c29f86', '4f5331b7b', '8a8df1c28', '8d318219c', '3a1f54e49', 'a3773af88', 'f355c9fe2', '51e3f1a43', '744856d95', '35af6e100', '23a4b904a', 'a2895c1eb', '5ac7c8105', '2f1c4be01', '8f1d02616', 'a4b64deca', '82890548b', '8c627af48', 'aa4ec63aa', '9595d8dc6', '9ab4727a2', '696530284', '4f9eceb2b', '97372d371', '9f8c17c70', 'f2885d3d7', 'dbd433d29', '0da996869', '8a5c7ac65', 'b6ab77fd7', '7ad46c7f4', 'a7c24c3a8', '7de5ba231', '3782f5786', 'b61e3461d', '9790095bb', '8f03c71fe', '16daa81b4', 'fe3f956a2', 'ce4124be0', '371f6d5b0', 'b1356efe7', '9e5f98ad5', '974b78929', '233494bf0', '24646bd61', '86fc02294', '4ae7a034a', '9c29fd766', 'e3fcdaef7', 'f2c6481a5', '7767b2fe0', 'ab891997e', '6a8522f06', '085d0d511', '4fb926950', 'afe608129', '5bf2f5f74', '9a11f9b1d', 'ef1f73253', '5e9cd13e4', '013fd7d80', '08a55ca8a', '0bbcbab79', '97316e61d', '42cc125bc', 'ccd16cf61', 'ac9e20f82', 'b0a32bf24', '681baf2e2', '6584c18c0', '4f4b7779a', '3d9302a17', 'de2174062', '3116768f0', 'd7a53082e', 'fbecfeba8', '15486e5af', '63c658201', 'ca664da7d', 'c8b81529c', 'f1144b38d', '74d747bcf', 'fa9b3ea2d', '23eb6b3d5', '10c2f7946', 'aa93e44f2', 'c4b6168b5', '90dae4a54', 'd89f4ea06', 'dae984d6a', '3d0a586c6', '02b6f199c', '7ec61f6ab', '0a97d54ae', '4a654c127', '63a5a0d29', '2629ddf24', '80c30181b', '144d57df8', '3b6147f4c', '3733d0e53', '21504c374', '4def855a8', 'a489c82f1', 'a4084fc8c', '93d67b171', 'dffff7fe4', '026b6f389', 'e93694e20', '4972b9493', '4c5805bae', 'd2f56e67a', 'ad0d224d6', '87196861b', '85c3c061a', 'ad6eaaf54', '2efd58ef9', 'eff99d6e2', '20c6725f1', 'f05cd0112', '7f065f0ec', '366187e59', '4fc5adf2d', 'a4ac9094c', '76e56c0b1', '342af9602', 'c88635e09', 'cacd820db', 'abcb46fc1', 'a8f992d8d', 'c64a4006c', '0eab04c31', '6d16eb82c', '211487419', '40191f5cd', 'c328e6c68', '3542457e2', '38ed976da', 'c7385941e', '6a1ad8811', '1fcc8f8d9', 'b57f67edf', '952ce366b', '56fe78aae', 'f1a8585e0', '078d5b8b9', '3e5845bc4', '7c3c4d604', '6df093d5e', '4cece159a', 'c78072dbe', '293a1fd62', '2f9755f66', '3a4672486', '9a30dd802', 'dda3868c0', '86d6bcafe', 'a586f39dd', 'fb6e04c0c', 'b84e88d30', '8ba166588', 'e817ba65e', '8f06b77e5', '39ad9affa', '67a70d2d7', 'a555ed46d', '22c8f2030', '64ee2e175', '5d73dfef2', '294cc4475', 'f016b9731', '1a94773a1', '4112a34bd', 'b838eaf1d', '6e7c6ce51', '06812a4fc', '1478a43f1', '30f54e611', '8930c88da', '5c6bcf243', '3fa496996', 'c63dc2890', '5a8f53092', '0787635a2', 'b61e9bd86', '7f4f977bf', '6902bbaf2', '9546777f4', '2e71d8f9c', '29f09fa58', 'fb52ca9b2', '33b939a6a', '20e9f1548', 'fb804ab78', '461376287', 'd6985490b', '9f528c76b', 'b20d35e4d', 'c07795af6', 'd17efcdba', 'f4a36a6fd', 'a7605a14e', '38eb35232', 'b2fbd25ac', '5a77d4b5d', 'faedfa626', '3ba5d332c', 'aa6b16251', 'fe029eca4', 'a9b3451c9', '44fb6b8b2', '26871fd54', 'bb3a2e25d', '671fb8771', 'c26cd234a', '9ae3752f9', '57a0bb1bd', '0557047b9', '9c527c135', '2b99d68df', '1c0155c9c', '4a06c2f96', '3a67dc193', 'e67200e55', '2934e89a8', '432d13b1c', '72d4c6b3e', '1696dab5e', '5d6935f10', 'a3f40a01f', 'e596e6bb2', '96e14c7cd', 'eddff557c', 'dc1c9be0d', '8176735c1', '6ca4eaf5b', '1bf4fb6e5', 'fda2b546f', '2889b72ef', 'ecd58cc0a', '9adbfe503', '01e2c61d9', 'd7d200c0b', '7e6a307fd', '3f6898489', 'dc75973ed', 'd474f39c8', '7d0d1f2f4', 'e01ad95cf', 'e46eadfe8', '30dbdb998', 'ba3199d7a', '5a9be233e', '74feae99f', '5f6877758', '6c291229f', 'cbab952fe', '4d103d0aa', '0dc2de69d', '2b1986944', 'd688932d4', 'd011146e3', '655c1ffdd', '58ac1a399', 'a0e06275c', '3741873d5', 'bfe0b9132', '044097f45', 'dc928e94e', '5a155e612', '4532a128a', '8b342101d', 'dfbc049cd', 'e14f4de23', 'f2bfe5abb', 'd71072943', 'a4be48060', '9eadd4800', '228f94f80', '85f4d894b', '5cda6a08c', '8af6246a7', 'b43718050', 'c5c9bdea8', 'f9b999e9c', '7df975b07', '91ef6ef2b', 'a97e8476c', '8cad1a1e0', '6a739d41b', '131708dfd', '1a9792bfc', 'e26eefe0f', 'e486f399d', '0eed0a689', '7727e3256', 'c720c9774', 'e081e431a', 'e891c64c3', 'af1f9ee99', 'aaf9d5f5c', '019d1c76a', '9d9b579c6', '2d3e3f783', 'a28af8f95', '56105ed87', 'e1ddcee1f', 'a8eb74244', '4b04d64f9', 'c0bc8d9f2', 'dded96348', '2a5be9325', 'b53afdf5c', 'f78c551de', 'bfbe6654b', 'bf4a133c9', '16b77f4c7', '8dd8f0ca6', '4762899a8', '59dbb2e28', '8ad93457c', '635f4a7ae', '504ec14ed', 'c78edc091', 'c85eedb4c', '61dcbea57', 'b6324ea82', '181637e7b', 'bc226ebfd', '3842535e1', '31016e613', 'abb037b27', 'c74db0380', 'dae78abf2', 'ac8eb0616', '37f80fd4e', '71fd03d51', '4a304fb45', 'aadb83e1d', '8f4d1ad4e', '1d2ab0a45', 'f1aaca96f', 'efc5642bb', 'e344e8213', '250483997', 'd07d391fc', '6ce97e05f', '8f507b3f7', '4cf91995d', '1c6e42234', 'a6fcbeb71', 'acb011afd', 'd05a25a35', 'cf3a2a32d', 'cb0a32cbb', '58b3d8b22', 'b45c5294d', '0f5267442', '8d25532a5', '8de789df8', '69fc3d3ff', 'a7365ee55', 'a28d1eb6d', '421657e44', 'cadb3740d', 'af1507e03', 'a76ca8630', 'f93ef5667', '4aeb37788', '09539e132', '190f2ca1d', 'e3f4e8b6d', '0a029eead', 'c3c8b6aa5', '1dbd065ce', 'b3dd471bc', 'c20958f55', 'd3e9389e1', '3c1168fe0', '7d6cc4b2a', '04a47965e', '8af4b7288', '93e906638', '3ff643a64', '6db264b94', '5dcd02a5e', 'ba9133208', 'f01ed3f24', '2ad7fa68e', '59ad70280', '0114c88aa', '0a73f8a0f', '8201b54e5', '1d7a82a04', '84d992b88', '336d2e4ce', 'fbc79aea4', '7de1fc333', '536ef8d03', '3e9bf50b6', '91c9c8b5e', '82b734b58', '5366196ef', 'd89b34cb1', '41badd217', 'e9d055506', '59d49ab38', '93648317d', 'a2e7fd80f', 'dd1b2f39a', 'c9a573b93', '0f47f54f1', '773bf9022', '57587eaf7', '797dd3e01', 'd5cc960f7', '05dfa9bb1', 'a5df11e9f', '010c93b99', '156282051', '9764d9f54', 'bebf1704f', '6f119c82d', '48fe9c634', '2d80f9c49', 'd1ff5f449', 'b4661eb6f', '2ed43720f', '7b0840687', 'ff86547fb', '161f20a53', '02992044c', '7a0fe3392', '16e075fbb', 'cbfaa3ed9', '3a061fb14', 'd623a5d12', 'f27d2e19c', '498df3cb2', '6a8a08409', 'a4bce62ff', 'b1e4a723e', 'de941b2fc', '723068e09', 'd025ff56c', 'f3bc43304', '10e1fb0e8', '160cdf8e1', 'cb4d2d66b', '530a756df', 'c0d460d6a', 'de9d781ae', '695ae4a12', '83b801148', 'f1e0fb4d4', '408013a9d', '198df0975', 'f1794c924', '4a44720ca', 'b745b9e4d', 'a06241eb3', '2fc7b5c3a', '62be58f7d', 'e383c916b', '0f43bb6d7', '8a5310dc4', '99886a700', '14b4ef410', '250233aea', 'c0e168cd3', '4a8d4eaa5', '79b825776', '02640d9da', '2661979ef', 'def999c42', '768b0256e', 'a90446700', '0a10cd864', '7e1a10f51', 'e91b154aa', '767e515ec', '443e953d4', '0f0bb7843', 'aa644920c', '5dcae81a5', '6a9534cf5', 'f4faff69b', 'd72de34f5', '30a6d7d1d', '4bdcb2c78', '36e469dbf', 'eb9965e00', '5afdeef16', '2c9b5552e', '52adef115', '0ee812df9', '6284044ed', '0a3ff84a7', '4ff1646a8', 'b0daf69ce', '15c794bfc', '91c7fb84e', '4d57ebd90', 'c7c00c1a3', 'fcb0f108a', 'd25b61e9f', '0afdb91a2', '02e02e347', '70cfaefe9', '9458dee84', 'e0e62403f', '5b36bb79a', 'f2c0e95ec', '4b83b6541', 'e2d034e7d', '37f88c75e', 'f4ce08038', '0ff60b2bc', '15d56204e', 'e60d70a8f', 'c4f8e6485', '90b494625', 'ae1fcb590', '1c90d23fb', 'cc2bbb768', 'b6265c083', '65cb7e88b', '1f7600e2c', '46e976dc4', 'df0be3f16', '8425a537b', 'e4ba46588', '6e07bfe69', 'd9b373de2', '48a50a1fd', '42200d05d', 'a4fb1f6af', '0a181bbb4', 'ce69098f5', '4e3d5f72f', 'c3e712a5d', 'f46fea3a3', 'f3e13af6a', 'b9c9c2559', 'b900ef546', 'f6a53d30e', 'c3c03e0b7', '5ab074c28', '844d5bd76', 'ecad4b636', '279a356f8', '4a150e0ff', '2c4db1d53', '97f0e1800', 'aebb5ab04', '38565f9b9', '043a957ca', 'f926234d6', '292dac626', '6d5e056b2', 'eebbcb229', '155c440e8', 'c0217fd95', '67e82d536', '8224baba4', 'b1642dc6f', '89d2fcb7c', '85e3ce681', '0172359d2', 'e891a6cff', 'f5b320e47', '1e58125ec', '14d2b1c3a', 'eb254c87a', 'f24ebcdef', '6106eefbc', '73ed111df', '379ef727d', '832555118', '9644dd8a1', '93ad786cf', 'a17a4335c', '7c598ce6b', '3a1c78a92', '8daf0da72', '0bb98c55d', 'f9c2e040c', '04201d2d6', '40b8f078e', 'bfcaa59eb', 'fa55f0519', 'c9ade75be', 'dc2c73c4b', '956c1d252', 'ca5e51e59', '51b4a91cc', '08568d66f', '1ef16dab1', 'fd5624913', '0c06dde5b', 'fda2e0448', '834690a35', 'e935b9eea', '7fc944a16', 'f05830c46', 'defc112e7', 'e55ddec1a', '6ac5ecca6', '0d82ef017', '3f8f6b1a1', '82344bf14', 'ccf2bea3e', '1be796d9d', '2c5b2cd57', '251b2ed74', '504dc181d', '38c8180c0', '86b658350', 'a0c25ba9c', '52c1231da', 'da8c686cb', '69041dcff', 'a22cdd5eb', '87a0373b2', 'da0e870d9', '0df7f89c3', 'd728e2fc2', 'f43b1b260', 'cb34f7509', '976d1eb84', '234cc40aa', '90677210d', 'b79a35c8d', '13358081a', '0a4dc77c7', 'c6357c9d8', '348059f04', 'd5af3d5a4', '86aaf56ab', '38fd197f0', '518796b7c', '668149d6b', 'dd5dd0234', '43f4f59cc', 'bb2076d4c', '19cb6b0e3', '69809f5c0', '3cf295f6c', '3aea733b5', '57e21a852', '7e18f16b8', '5c2e16f27', '2ae1f9d88', '6dfeb6f7a', 'de0f984ca', '2041a2d49', 'f358b3414', '0d7268752', '3e1e66c76', 'e9491d2d6', '1eb2bad31', '5a0db55d8', '5792ad7e6', 'f6b9d6dd1', '3b70da460', '952e7d15c', '0c264c98e', '6b62d8c94', '3834dbe25', 'd950bfe39', '9785e4e53', '027086635', '1b99d2fd6', '5d3b4d154', '609c993a9', 'd484ee6d8', '60870e668', '40299d328', '9d0f63de7', '42d5e8791', 'a8cd65e4f', '8a5658897', '1523f5ec1', '931820800', 'da9b730d9', '654a741f5', '08aa26ac1', '522edf5c3', '8a3543c3b', 'd462add58', 'af9dc42e8', '6b62a043a', '4aa477af5', '467e7283e', '115d07916', '5b558a4c7', 'e6989f6c7', '69a211ccf', '47b0d504c', '4972999e9', '4f9b8d33e', '6ef909f8f', 'fd3c02c74', '619aff026', 'c1279ebc9', '69662aa1c', 'ab500e0d8', '28ee29473', '1762ed306', '0874422e6', '4a7825bbe', '864bafe51', '3fa57b900', 'e290bc809', 'c2b7f1929', '333d4affe', '7bb11e582', 'c5c70baa6', '35f84d33a', 'af9b3c251', 'c66c3b651', 'f24698e88', '1ff3f11c4', '28f619dfe', '832cf59eb', '216bba07e', 'd2b5895a2', '83a5d8ac8', 'cf97baf3e', '97788b3ae', '2677d9124', '78b1ea0d6', 'af13ca6bc', 'f20baf558', 'a666d9bcd', 'a41c48f1a', 'bb6229e9c', '57570effa', 'c15a563d8', '31b00c1ad', 'f1a038768', '84a5579db', '56fd2d9c7', '3a97dc987', '5e6a9d355', 'fabaeac81', '3ef86180e', '1ee6b9669', 'ec8640868', 'b9d5a380d', '88dc94b76', 'a44b0ece4', '5f27c9778', '1f387ec08', '6a614e72e', 'e46378032', 'd01b29b85', '08a65db34', '005b0d8bb', '8782ac4b6', 'abec65871', '581eaf87b', 'e769b6e01', 'd46e680e0', '64c39c542', 'f87c3ecfe', '52e879ea3', 'c672ca0b0', '4a29d08ab', 'f3db3089c', '5ef03457c', 'c354a54ac', '30bbd3d87', '53c5fcf4c', '91a285076', 'beacc5971', '18e5e064b', '3cfbeabfc', '483fac02a', '14783fc8c', '4227725a7', 'f9f72d23c', 'e60108508', '029c79463', 'c0a6307fa', '33ea56e1c', '474e47181', '45a0724bf', '7347e16e8', '0923194d6', 'd2ec1dfd5', '695cd49dd', 'b7341c950', 'c509717b1', 'b40d7ae4e', 'e8fb2db93', '0f4911203', '5fb074443', '4cbb2b7bd', 'f415daf80', 'a332a2aeb', 'f6e40d451', '6811a6ee9', 'b27a68a05', '60044b7cb', '1ecb85340', '8e2f178d1', 'f7fceadee', '9d8a3a164', '96b872ec8', 'e2a3ba358', '773a616f7', '4e23d68b2', '57393e4e9', '5f5181592', '595709e55', '45958be5e', '30e5213ff', '2ed94451a', '3fe6394cd', '8b558e9e3', 'eb256e6be', 'ab20ec355', 'c86621747', '484674836', 'a5904a10b', '29b48c0a7', '56f7dc978', '3eece2a34', 'd1cb278c3', 'b615a1f5c', '70bc24fa2', '6b8416819', '4d0c8be2a', '75791012a', '1734d7a9f', '8200547cf', '40cdb5389', '34b5b6acb', 'aa19d5412', '59664f9a2', 'c1cdb43d9', '8f0434556', '69352f3fa', '51f539ed6', 'a5dde818e', '967c63659', '27f0a8188', 'a965d4117', 'd55c4d4b2', 'c7df66915', 'a34a8c2cc', 'b45096c1e', '59e8168c0', '65f5afe35', '13b0e960a', 'b2efe29e7', '8ebda8cba', 'f1d20d58a', '99d221ffe', '4c02b2f7f', 'a119a31fb', 'e960b67ea', '79964dffd', '2277ae74f', 'ed22354e1', '8a5741c74', 'ee91a1343', '8a5cb62db', '2cc75e9f5', 'fb5867958', 'b07680974', 'af35871fc', '01397a84c', '8af29abc4', 'afb240f5a', 'c3c959c98', '6c7a6f8b8', 'c64da3b0d', '2d2c79df1', 'c49ed83ce', 'cbfd50139', 'c97adf022', '9f1723100', '3918cb6de', 'aedca9e2e', 'fe8876602', 'ca22dfe75', 'fb41c061c', 'bfaa92629', 'ccfff0629', 'e142e85ad', '877827fb3', '4bb9bab8b', '331a697b2', '56d818688', 'ab026e14a', '1172e0f0a', 'eaeda7363', '967ff723d', '0429c9ff6', '66adaf07a', '1b2a30a59', 'd3286c089', '1ab041b77', '134d4a01c', 'b6eb131d8', 'bc1666f8c', '427fddfcf', '2e1a15f76', 'bb67d5c2e', '4cd4207d8', '3ba04140c', 'b3ea991e1', '2752325a7', 'ffbf75e5b', 'bf48d8c97', 'fab41168b', '5a3e0c6b5', '05cd43275', '41c9d0538', '26f09dc76', '43e3ccd92', 'c5ef2f9d2', '3b4627945', 'f9c4d2466', '278038027', '848e992bd', '14d024cc4', '78edb3987', '95d633618', '879d8a9d2', '90a725e8b', '1b43ca0a6', 'aff4e0a02', 'd3a1f8c7e', 'a134e203f', '48c72c991', '22eabfde5', '0c2d20111', 'adb1ef13e', '7be932521', '124820ed4', 'bcaa081f5', 'ac8365ca4', '2e6c333a7', 'dc1e97cee', '26c2b1c78', '05ac5dc96', '962ccb192', '690c7d8f0', '3738685a3', 'b1100369a', '5a5631a48', '86296fc32', '82775d15c', '3c378dd5d', 'b49e3593d', '5f76c9a35', 'e2ac8324c', '19e5ab184', 'f0508910d', '5855982d5', 'd96205316', '45fddc611', '2d1b6ce2a', 'd00a142f1', 'eb9833cca', '98db75bde', '220488d01', '1bcb0e91e', '0e0809a3d', '1e509e544', '8fb3138d9', '3aaa6d134', '1690036d7', '78752f185', '51cd1fe14', '4b127eb47', 'a3b44bbfc', '57c1475d8', '307fa05aa', '5e182e37e', '6b95f62ec', '6b055e6cc', 'e97102590', '3fd9db710', 'a84af52ba', 'a8b61f66a', 'd89cae86c', 'ebcdcc024', '76595919e', 'c925fda69', 'aa8e3a1c3', 'e011bf67e', '769847044', '4b3d92c5e', '8cdf2f9f9', '5fabe93b1', 'a65b1b9a6', 'a88930f1f', '46b7a42f3', '443cc36d2', 'feda9265c', 'c1a61bc88', '8b12ac747', '47a9b9c85', '6c66bb62d', 'b696f57e0', '56c449fcd', '59bb76698', '5ea4aa57a', '2cc49e1ba', 'cf1fc081c', 'afe4fd4f5', '5738fcf14', 'ec3d2ced1', '6b4169a72', 'a9fd8b7f3', 'ade6dd872', '4a3f67d2e', '9d8f6d301', '699810258', 'bf0d58e83', 'ffb0f6eca', 'a3bc2d2ec', '09f97e0cf', '5ca83de08', '9a87c92e7', 'eef9bcaf5', 'ce78f7f47', 'c01a58fdb', '6cecd54f5', '25c62465e', 'b28548e32', 'c09caecc1', '1bc14c658', 'bbf57e28b', 'f21d6d68c', '9988ee066', '1104e6a0d', '7d574da3d', '5758d6571', 'e6cffbb3d', '9302b9512', '6af5a0a2b', '88136bbdd', 'b21ca086c', '22dccd0b7', 'b6df6691b', 'a245ab7f9', 'd5b96f991', '13973250e', '0e8557b27', 'fec6edf64', 'd13ac0b3f', 'e7f4f02a7', 'dc9ac3f45', 'b4424d3cc', 'd0ee692a0', '2f836c5ab', 'a1da0dfe1', 'f5607392f', '3b778c35e', 'd1f73158a', 'd1effa7a5', '8115795f7', 'f4f62f0f8', '03d831c0d', 'e34336025', '0bb1adbd8', 'a3bcd1d0f', 'cb7a2a690', 'cc1a14dfc', '2dc5dd23d', '72f8aaa4f', '69d37b0ba', '57ae1baf6', 'bf2d1a625', 'a9b1e5e29', '39869da63', '18be58eb6', '2aa35dade', '6b0b7bbd9', '8a702e7da', 'd058ee2e2', 'f85244c49', 'b4cfcce63', '595a30abe', '43d29ec95', '4b4f6de9b', '87998b065', 'f51be4839', 'bb69ce275', '6298999e6', '9386badca', 'b2de96e22', '4e400338e', 'a3ed252a3', '4dc07d36a', '174a9e2e7', '6de6b5347', 'b7d03627f', '058ad1382', '0c3d9007c', '783a00fe3', 'f94718a9b', '471c46022', 'a61806345', 'c5d1a8143', '352c3a397', '673b64e17', '6f4d09643', 'b2f2a5dfd', 'b6e406cd1', '94ea18562', '2689d2bb4', 'f52ca5892', 'b58605092', '838e29709', '3db94deb2', '90a4c6bf9', '16d26f266', 'a9cd1638c', 'ce803c694', 'eb6cd1050', '569ea0f59', '348f3c34b', 'e92e52948', '6ea32891e', '086b6a39d', '682f78993', 'ff46aa8d4', '2051f1446', '3b4f7ba0a', 'be11c4e40', '457752437']\n",
      "['b6ab77fd7' 'b53afdf5c' '7b72ea0fb' ... 'a5c8d5f5c' 'e6b5e296d'\n",
      " '5e0747034']\n"
     ]
    }
   ],
   "source": [
    "# Investigate missing IDs in train.csv\n",
    "## Check which images in train folder is not present in unique ID in train.csv\n",
    "train_img_name = [image.stem for image in train_img]\n",
    "train_csv_id = train_df[\"image_id\"].unique()\n",
    "\n",
    "print(f\"No. of unique train image names: {len(set(train_img_name))}\")\n",
    "print(f\"No. of unique image_ids: {len(set(train_csv_id))}\")\n"
   ]
  },
  {
   "cell_type": "code",
   "execution_count": null,
   "id": "9692e912",
   "metadata": {},
   "outputs": [],
   "source": []
  }
 ],
 "metadata": {
  "kernelspec": {
   "display_name": "kaggle-wheat-detection",
   "language": "python",
   "name": "python3"
  },
  "language_info": {
   "codemirror_mode": {
    "name": "ipython",
    "version": 3
   },
   "file_extension": ".py",
   "mimetype": "text/x-python",
   "name": "python",
   "nbconvert_exporter": "python",
   "pygments_lexer": "ipython3",
   "version": "3.13.5"
  }
 },
 "nbformat": 4,
 "nbformat_minor": 5
}
