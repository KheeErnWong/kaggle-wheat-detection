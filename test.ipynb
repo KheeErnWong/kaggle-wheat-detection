{
 "cells": [
  {
   "cell_type": "code",
   "execution_count": null,
   "id": "3d0e6766",
   "metadata": {},
   "outputs": [],
   "source": [
    "# Auto reloads modules when they change\n",
    "%load_ext autoreload\n",
    "%autoreload 2"
   ]
  },
  {
   "cell_type": "code",
   "execution_count": 1,
   "id": "0317c974",
   "metadata": {},
   "outputs": [],
   "source": [
    "from src.dataset import wheatDataset"
   ]
  },
  {
   "cell_type": "code",
   "execution_count": null,
   "id": "975a13df",
   "metadata": {},
   "outputs": [],
   "source": []
  }
 ],
 "metadata": {
  "kernelspec": {
   "display_name": "kaggle-wheat-detection",
   "language": "python",
   "name": "python3"
  },
  "language_info": {
   "codemirror_mode": {
    "name": "ipython",
    "version": 3
   },
   "file_extension": ".py",
   "mimetype": "text/x-python",
   "name": "python",
   "nbconvert_exporter": "python",
   "pygments_lexer": "ipython3",
   "version": "3.13.5"
  }
 },
 "nbformat": 4,
 "nbformat_minor": 5
}
